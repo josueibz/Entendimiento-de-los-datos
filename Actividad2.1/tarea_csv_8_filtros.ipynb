{
 "cells": [
  {
   "cell_type": "code",
   "execution_count": 2,
   "metadata": {},
   "outputs": [],
   "source": [
    "import pandas as pd"
   ]
  },
  {
   "cell_type": "code",
   "execution_count": 25,
   "metadata": {},
   "outputs": [],
   "source": [
    "df = pd.read_csv('Bologna_Italia.csv')"
   ]
  },
  {
   "cell_type": "code",
   "execution_count": 26,
   "metadata": {},
   "outputs": [],
   "source": [
    "host_ids = [10565373, 11580855, 17806592, 22303074, 49238254]\n",
    "filtro_a = df[df['host_id'].isin(host_ids)]\n",
    "filtro_a.to_csv('a_hosts_unicos_ids.csv', index=False)\n"
   ]
  },
  {
   "cell_type": "code",
   "execution_count": 14,
   "metadata": {},
   "outputs": [],
   "source": [
    "df = df.dropna(subset=['host_since'])\n",
    "df['host_since'] = pd.to_datetime(df['host_since'], errors='coerce')\n",
    "df = df.dropna(subset=['host_since'])\n",
    "filtro_b = df[df['host_since'].dt.year >= 2020]\n",
    "filtro_b.to_csv('b_host_since.csv', index=False)"
   ]
  },
  {
   "cell_type": "code",
   "execution_count": 15,
   "metadata": {},
   "outputs": [],
   "source": [
    "tiempo_respuesta = [\"within a day\", \"within an hour\", \"within a few hours\"]\n",
    "filtro_c = df[df['host_response_time'].isin(tiempo_respuesta)]\n",
    "filtro_c.to_csv('c_host_tiempo_respuesta.csv', index=False)"
   ]
  },
  {
   "cell_type": "code",
   "execution_count": 16,
   "metadata": {},
   "outputs": [],
   "source": [
    "filtro_d = df.iloc[::200]\n",
    "filtro_d.to_csv('d_multiplos_200.csv', index=False)"
   ]
  },
  {
   "cell_type": "code",
   "execution_count": 17,
   "metadata": {},
   "outputs": [],
   "source": [
    "cuarto_tipos = [\"Entire home/apt\", \"Private room\"]\n",
    "filtro_e = df[df['room_type'].isin(cuarto_tipos)]\n",
    "filtro_e.to_csv('e_room_type.csv', index=False)"
   ]
  },
  {
   "cell_type": "code",
   "execution_count": 18,
   "metadata": {},
   "outputs": [],
   "source": [
    "filtro_f = df[df['beds'] <= 4]\n",
    "filtro_f.to_csv('f_beds.csv', index=False)"
   ]
  },
  {
   "cell_type": "code",
   "execution_count": 19,
   "metadata": {},
   "outputs": [],
   "source": [
    "filtro_g = df[df['host_is_superhost'] == 't']\n",
    "filtro_g.to_csv('g_superhost.csv', index=False)"
   ]
  },
  {
   "cell_type": "code",
   "execution_count": 20,
   "metadata": {},
   "outputs": [],
   "source": [
    "filtro_h = df.iloc[:, ::2]\n",
    "filtro_h.to_csv('h_columnas_impares.csv', index=False)"
   ]
  },
  {
   "cell_type": "code",
   "execution_count": 4,
   "metadata": {},
   "outputs": [],
   "source": [
    "df['host_response_rate'] = df['host_response_rate'].str.rstrip('%').astype(float)\n",
    "filtro_aa = df[(df['host_response_rate']>95) & (df['host_is_superhost'] == 'f')]\n",
    "filtro_aa.to_csv('aa_response_rate_no_superhost.csv', index=False)"
   ]
  },
  {
   "cell_type": "code",
   "execution_count": 5,
   "metadata": {},
   "outputs": [],
   "source": [
    "filtro_bb = df[df['bathrooms']>1.0]\n",
    "filtro_bb.to_csv('bb_mas_de_1_bathroom.csv', index=False)"
   ]
  },
  {
   "cell_type": "code",
   "execution_count": 10,
   "metadata": {},
   "outputs": [],
   "source": [
    "df['price'] = df['price'].replace(r'[\\$,]', '', regex=True).astype(float)\n",
    "filtro_cc = df[(df['price'] >= 100) & (df['price'] <= 200)]\n",
    "filtro_cc.to_csv('cc_precio_100_a_200.csv', index=False)"
   ]
  },
  {
   "cell_type": "code",
   "execution_count": 11,
   "metadata": {},
   "outputs": [],
   "source": [
    "filtro_dd = df[(df['instant_bookable'] == 't') & (df['host_identity_verified'] == 't')]\n",
    "filtro_dd.to_csv('dd_instant_bookable_verificado.csv', index=False)"
   ]
  },
  {
   "cell_type": "code",
   "execution_count": 12,
   "metadata": {},
   "outputs": [],
   "source": [
    "room_types2 = [\"Hotel room\", \"Private room\"]\n",
    "filtro_ee = df[df['room_type'].isin(room_types2)]\n",
    "filtro_ee.to_csv('ee_room_type2.csv', index=False)"
   ]
  },
  {
   "cell_type": "code",
   "execution_count": 13,
   "metadata": {},
   "outputs": [],
   "source": [
    "filtro_ff = df[df['accommodates'] > 4]\n",
    "filtro_ff.to_csv('ff_mas_de_4_accommodates.csv', index=False)"
   ]
  }
 ],
 "metadata": {
  "kernelspec": {
   "display_name": "Python 3",
   "language": "python",
   "name": "python3"
  },
  "language_info": {
   "codemirror_mode": {
    "name": "ipython",
    "version": 3
   },
   "file_extension": ".py",
   "mimetype": "text/x-python",
   "name": "python",
   "nbconvert_exporter": "python",
   "pygments_lexer": "ipython3",
   "version": "3.13.2"
  }
 },
 "nbformat": 4,
 "nbformat_minor": 2
}
